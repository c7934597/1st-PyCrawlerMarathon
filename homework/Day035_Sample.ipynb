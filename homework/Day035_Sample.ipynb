{
 "cells": [
  {
   "cell_type": "markdown",
   "metadata": {},
   "source": [
    "# 加速：多線程爬蟲\n",
    "\n",
    "\n",
    "\n",
    "* 了解知乎 API 使用方式與回傳內容\n",
    "* 撰寫程式存取 API 且添加標頭"
   ]
  },
  {
   "cell_type": "markdown",
   "metadata": {},
   "source": [
    "## Python 中的多線程"
   ]
  },
  {
   "cell_type": "code",
   "execution_count": 2,
   "metadata": {},
   "outputs": [],
   "source": [
    "import _thread\n",
    "import time\n",
    "import requests"
   ]
  },
  {
   "cell_type": "code",
   "execution_count": 1,
   "metadata": {},
   "outputs": [
    {
     "data": {
      "text/plain": [
       "10160"
      ]
     },
     "execution_count": 1,
     "metadata": {},
     "output_type": "execute_result"
    },
    {
     "name": "stdout",
     "output_type": "stream",
     "text": [
      "Thread-1  =>  0\n",
      "Thread-1  =>  2\n",
      "Thread-2  =>  1\n",
      "Thread-1  =>  4\n",
      "Thread-2  =>  3\n"
     ]
    }
   ],
   "source": [
    "def print_time(threadName, data, delay):\n",
    "    for d in data:\n",
    "        time.sleep(delay)\n",
    "        print(threadName, ' => ', d)\n",
    "\n",
    "_thread.start_new_thread( print_time, (\"Thread-1\", range(0, 5, 2), 2, ) )\n",
    "_thread.start_new_thread( print_time, (\"Thread-2\", range(1, 5, 2), 5, ) )"
   ]
  },
  {
   "cell_type": "code",
   "execution_count": 24,
   "metadata": {},
   "outputs": [
    {
     "data": {
      "text/plain": [
       "13444"
      ]
     },
     "execution_count": 24,
     "metadata": {},
     "output_type": "execute_result"
    },
    {
     "name": "stdout",
     "output_type": "stream",
     "text": [
      "Thread-1  =>  一\n",
      "Thread-2  =>  四\n",
      "Thread-1  =>  二\n",
      "Thread-2  =>  五\n",
      "Thread-1  =>  三\n"
     ]
    }
   ],
   "source": [
    "dt = ['一','二','三','四','五']\n",
    "def print_time(threadName, data, delay):\n",
    "    for d in data:\n",
    "        time.sleep(delay)\n",
    "        print(threadName, ' => ', d)\n",
    "\n",
    "_thread.start_new_thread( print_time, (\"Thread-1\", dt[:3], 1, ) )\n",
    "_thread.start_new_thread( print_time, (\"Thread-2\", dt[3:], 1, ) )\n"
   ]
  },
  {
   "cell_type": "markdown",
   "metadata": {},
   "source": [
    "## 多線程爬蟲\n"
   ]
  },
  {
   "cell_type": "code",
   "execution_count": 6,
   "metadata": {},
   "outputs": [
    {
     "name": "stdout",
     "output_type": "stream",
     "text": [
      "1  =>  <!doctype html>\n",
      "2  =>  <!doctype html>\n",
      "3  =>  <!doctype html>\n",
      "4  =>  <!doctype html>\n",
      "5  =>  <!doctype html>\n",
      "共用時： 11.035709142684937 秒\n"
     ]
    }
   ],
   "source": [
    "urls = ['http://python.org', 'http://python.org', 'http://python.org',\n",
    "        'http://python.org', 'http://python.org']\n",
    "\n",
    "startTime = time.time()\n",
    "\n",
    "for i,v in enumerate(urls):\n",
    "    res = requests.get(v)\n",
    "    print(i+1,' => ', res.text[:15])\n",
    "\n",
    "finishTime = time.time()\n",
    "print('共用時：',finishTime - startTime,'秒') # 正常情況的爬蟲所需時間"
   ]
  },
  {
   "cell_type": "code",
   "execution_count": 31,
   "metadata": {
    "scrolled": true
   },
   "outputs": [
    {
     "name": "stdout",
     "output_type": "stream",
     "text": [
      "共用時： 0.0 秒\n",
      "Thread-2  =>  <!doctype html>\n",
      "Thread-1  =>  <!doctype html>\n",
      "Thread-2  =>  <!doctype html>\n",
      "Thread-1  =>  <!doctype html>\n",
      "Thread-1  =>  <!doctype html>\n"
     ]
    }
   ],
   "source": [
    "urls = ['http://python.org', 'http://python.org', 'http://python.org',\n",
    "        'http://python.org', 'http://python.org']\n",
    "\n",
    "def get_request(tname,url, delay):\n",
    "    for i,v in enumerate(url):\n",
    "        time.sleep(delay)\n",
    "        res = requests.get(v)\n",
    "        print(tname,' => ', res.text[:15])\n",
    "\n",
    "\n",
    "startTime = time.time()\n",
    "\n",
    "_thread.start_new_thread( get_request, (\"Thread-1\", urls[:3], 0, ) )\n",
    "_thread.start_new_thread( get_request, (\"Thread-2\", urls[3:], 0, ) )\n",
    "\n",
    "finishTime = time.time()\n",
    "\n",
    "\n",
    "print('共用時：',finishTime - startTime,'秒')# 利用 thread 的爬蟲所需時間\n"
   ]
  },
  {
   "cell_type": "markdown",
   "metadata": {},
   "source": [
    "## Threading "
   ]
  },
  {
   "cell_type": "code",
   "execution_count": 2,
   "metadata": {},
   "outputs": [],
   "source": [
    "import threading"
   ]
  },
  {
   "cell_type": "code",
   "execution_count": 35,
   "metadata": {},
   "outputs": [
    {
     "name": "stdout",
     "output_type": "stream",
     "text": [
      "<_MainThread(MainThread, started 12768)>\n",
      "[<_MainThread(MainThread, started 12768)>, <Thread(Thread-4, started daemon 13284)>, <Heartbeat(Thread-5, started daemon 14844)>, <HistorySavingThread(IPythonHistorySavingThread, started 13472)>, <ParentPollerWindows(Thread-3, started daemon 2384)>]\n",
      "5\n"
     ]
    }
   ],
   "source": [
    "print(threading.current_thread()) # 現在的線程\n",
    "print(threading.enumerate()) # 有哪些線程\n",
    "print(threading.active_count()) #線程數量"
   ]
  },
  {
   "cell_type": "code",
   "execution_count": 3,
   "metadata": {},
   "outputs": [
    {
     "name": "stdout",
     "output_type": "stream",
     "text": [
      "這是一個新增的線程，名稱是<Thread(Thread-6, started 16772)>\n"
     ]
    }
   ],
   "source": [
    "def get_req():\n",
    "    print('這是一個新增的線程，名稱是%s' % threading.current_thread())\n",
    "\n",
    "add_thread = threading.Thread(target=get_req)\n",
    "add_thread.start()"
   ]
  },
  {
   "cell_type": "code",
   "execution_count": 4,
   "metadata": {},
   "outputs": [
    {
     "name": "stdout",
     "output_type": "stream",
     "text": [
      "線程一開始了\n",
      "全部結束\n",
      "\n",
      "\n",
      "線程一結束了\n",
      "\n"
     ]
    }
   ],
   "source": [
    "import time\n",
    "def get_req():\n",
    "    print('線程一開始了\\n')\n",
    "    for i in range(10):\n",
    "        time.sleep(0.1)\n",
    "    print('線程一結束了\\n')\n",
    "    \n",
    "add_thread = threading.Thread(target=get_req, name='T1')\n",
    "add_thread.start()\n",
    "print('全部結束\\n')"
   ]
  },
  {
   "cell_type": "code",
   "execution_count": 5,
   "metadata": {
    "scrolled": true
   },
   "outputs": [
    {
     "name": "stdout",
     "output_type": "stream",
     "text": [
      "線程一開始了\n",
      "\n",
      "線程一結束了\n",
      "\n",
      "全部結束\n",
      "\n"
     ]
    }
   ],
   "source": [
    "def get_req():\n",
    "    print('線程一開始了\\n')\n",
    "    for i in range(10):\n",
    "        time.sleep(0.1)\n",
    "    print('線程一結束了\\n')\n",
    "    \n",
    "add_thread = threading.Thread(target=get_req, name='T1')\n",
    "add_thread.start()\n",
    "add_thread.join() # 運行join以後的命令，都要等待上面那個現成運玩了才會執行\n",
    "print('全部結束\\n')"
   ]
  },
  {
   "cell_type": "code",
   "execution_count": 6,
   "metadata": {
    "scrolled": true
   },
   "outputs": [
    {
     "name": "stdout",
     "output_type": "stream",
     "text": [
      "線程一開始了\n",
      "\n",
      "線程二開始了\n",
      "\n",
      "線程二結束了\n",
      "\n",
      "線程一結束了\n",
      "\n",
      "全部結束\n",
      "\n"
     ]
    }
   ],
   "source": [
    "def get_req():\n",
    "    print('線程一開始了\\n')\n",
    "    for i in range(10):\n",
    "        time.sleep(0.1)\n",
    "    print('線程一結束了\\n')\n",
    "    \n",
    "def t2_job():\n",
    "    print('線程二開始了\\n')\n",
    "    print('線程二結束了\\n')\n",
    "    \n",
    "add_thread = threading.Thread(target=get_req, name='T1')\n",
    "add_thread2 = threading.Thread(target=t2_job, name=\"T2\")\n",
    "add_thread.start()\n",
    "add_thread2.start()\n",
    "add_thread.join() # 運行join以後的命令，都要等待上面那個現成運玩了才會執行\n",
    "print('全部結束\\n')"
   ]
  },
  {
   "cell_type": "code",
   "execution_count": 7,
   "metadata": {},
   "outputs": [
    {
     "name": "stdout",
     "output_type": "stream",
     "text": [
      "線程一開始了\n",
      "\n",
      "線程二開始了\n",
      "\n",
      "線程二結束了\n",
      "\n",
      "線程一結束了\n",
      "\n",
      "全部結束\n",
      "\n"
     ]
    }
   ],
   "source": [
    "def get_req():\n",
    "    print('線程一開始了\\n')\n",
    "    for i in range(10):\n",
    "        time.sleep(0.1)\n",
    "    print('線程一結束了\\n')\n",
    "    \n",
    "def t2_job():\n",
    "    print('線程二開始了\\n')\n",
    "    print('線程二結束了\\n')\n",
    "    \n",
    "add_thread = threading.Thread(target=get_req, name='T1')\n",
    "add_thread2 = threading.Thread(target=t2_job, name=\"T2\")\n",
    "add_thread.start()\n",
    "add_thread2.start()\n",
    "\n",
    "# 運行join以後的命令，就會等運行完了才會執行\n",
    "add_thread.join()\n",
    "add_thread2.join()\n",
    "print('全部結束\\n')"
   ]
  },
  {
   "cell_type": "code",
   "execution_count": 8,
   "metadata": {},
   "outputs": [],
   "source": [
    "urls = ['http://python.org', 'http://python.org', 'http://python.org',\n",
    "        'http://python.org', 'http://python.org']"
   ]
  },
  {
   "cell_type": "code",
   "execution_count": 9,
   "metadata": {},
   "outputs": [],
   "source": [
    "import requests"
   ]
  },
  {
   "cell_type": "code",
   "execution_count": 18,
   "metadata": {},
   "outputs": [
    {
     "name": "stdout",
     "output_type": "stream",
     "text": [
      "線程一開始了\n",
      "\n",
      "parse 1- 1 http://python.org\n",
      "線程二開始了\n",
      "\n",
      "parse 2- 1 http://python.org\n",
      "parse 1- 2 http://python.org\n",
      "parse 2- 2 http://python.org\n",
      "parse 1- 3 http://python.org\n",
      "parse 2- 3 http://python.org\n",
      "線程一結束了\n",
      "\n",
      "線程二結束了\n",
      "\n",
      "共用時： 7.0083043575286865 秒\n",
      "\n",
      "全部結束\n",
      "\n"
     ]
    }
   ],
   "source": [
    "def get_url(urls=['http://python.org', 'http://python.org', 'http://python.org']):\n",
    "    print('線程一開始了\\n')\n",
    "    for i,url in enumerate(urls):\n",
    "        print('parse 1-',i+1, url)\n",
    "        resp = requests.get(url)\n",
    "    print('線程一結束了\\n')\n",
    "\n",
    "def get_url2(urls=['http://python.org', 'http://python.org', 'http://python.org']):\n",
    "    print('線程二開始了\\n')\n",
    "    for i,url in enumerate(urls):\n",
    "        print('parse 2-',i+1, url)\n",
    "        resp = requests.get(url)\n",
    "    print('線程二結束了\\n')    \n",
    "\n",
    "startTime = time.time()\n",
    "t1 = threading.Thread(target=get_url, name='t1')\n",
    "t2 = threading.Thread(target=get_url2, name='t2')\n",
    "t1.start()\n",
    "t2.start()\n",
    "t1.join()\n",
    "t2.join()\n",
    "finishTime = time.time()\n",
    "print('共用時：',finishTime - startTime,'秒\\n')# 利用 thread 的爬蟲所需時間\n",
    "print('全部結束\\n')\n"
   ]
  },
  {
   "cell_type": "markdown",
   "metadata": {},
   "source": [
    "### 多線程池"
   ]
  },
  {
   "cell_type": "code",
   "execution_count": 1,
   "metadata": {},
   "outputs": [],
   "source": [
    "from concurrent.futures import ThreadPoolExecutor"
   ]
  },
  {
   "cell_type": "code",
   "execution_count": 4,
   "metadata": {
    "scrolled": false
   },
   "outputs": [
    {
     "name": "stdout",
     "output_type": "stream",
     "text": [
      "http://python.org <Response [200]>\n",
      "http://python.org <Response [200]>\n",
      "http://python.org <Response [200]>\n",
      "http://python.org <Response [200]>\n",
      "http://python.org <Response [200]>\n",
      "共用時： 1.8390135765075684 秒\n",
      "\n",
      "全部結束\n",
      "\n"
     ]
    }
   ],
   "source": [
    "urls = ['http://python.org', 'http://python.org', 'http://python.org',\n",
    "        'http://python.org', 'http://python.org']\n",
    "\n",
    "def task(url):\n",
    "    response = requests.get(url)\n",
    "    print(url, response)\n",
    "\n",
    "startTime = time.time()    \n",
    "pool = ThreadPoolExecutor(5)\n",
    "\n",
    "for url in urls:\n",
    "    pool.submit(task, url)\n",
    "\n",
    "pool.shutdown(wait=True)\n",
    "\n",
    "finishTime = time.time()\n",
    "print('共用時：',finishTime - startTime,'秒\\n')\n",
    "print('全部結束\\n')"
   ]
  },
  {
   "cell_type": "markdown",
   "metadata": {},
   "source": [
    "### 加入callback function寫法:"
   ]
  },
  {
   "cell_type": "code",
   "execution_count": 11,
   "metadata": {},
   "outputs": [
    {
     "name": "stdout",
     "output_type": "stream",
     "text": [
      "https://www.google.com/ 200 b'<!doctype html><html itemscope=\"\" itemtype=\"http:/'\n",
      "http://www.fkgroup.com.tw/ 200 b'<!doctype html>\\n<html debug=\"true\" lang=\"zh-Hant\">'\n",
      "https://www.youtube.com/ 200 b'  <!DOCTYPE html><html lang=\"zh-Hant-TW\" data-cast'\n",
      "https://www.facebook.com/ 200 b'<!DOCTYPE html>\\n<html lang=\"zh-Hant\" id=\"facebook\"'\n",
      "https://www.python.org/ 200 b'<!doctype html>\\n<!--[if lt IE 7]>   <html class=\"n'\n",
      "共用時： 1.6646451950073242 秒\n",
      "\n",
      "全部結束\n",
      "\n"
     ]
    }
   ],
   "source": [
    "urls = ['https://google.com', 'https://facebook.com', 'http://python.org',\n",
    "        'http://www.youtube.com', 'http://www.yaling-hotel.tw']\n",
    "\n",
    "def task(url):\n",
    "    response = requests.get(url)\n",
    "    return response\n",
    "\n",
    "def done(future, *args, **kwargs):\n",
    "    response = future.result()\n",
    "    print(response.url,response.status_code,response.content[:50])\n",
    "    \n",
    "startTime = time.time()    \n",
    "pool = ThreadPoolExecutor(5)\n",
    "\n",
    "for url in urls:\n",
    "    v = pool.submit(task, url)\n",
    "    v.add_done_callback(done)\n",
    "pool.shutdown(wait=True)\n",
    "\n",
    "finishTime = time.time()\n",
    "print('共用時：',finishTime - startTime,'秒\\n')\n",
    "print('全部結束\\n')"
   ]
  },
  {
   "cell_type": "markdown",
   "metadata": {},
   "source": [
    "#### 不用線程的用時"
   ]
  },
  {
   "cell_type": "code",
   "execution_count": 10,
   "metadata": {},
   "outputs": [
    {
     "name": "stdout",
     "output_type": "stream",
     "text": [
      "https://google.com 200 b'<!doctype html><html itemscope=\"\" itemtype=\"http:/'\n",
      "https://facebook.com 200 b'<!DOCTYPE html>\\n<html lang=\"zh-Hant\" id=\"facebook\"'\n",
      "http://python.org 200 b'<!doctype html>\\n<!--[if lt IE 7]>   <html class=\"n'\n",
      "http://www.youtube.com 200 b'  <!DOCTYPE html><html lang=\"zh-Hant-TW\" data-cast'\n",
      "http://www.yaling-hotel.tw 200 b'<!doctype html>\\n<html debug=\"true\" lang=\"zh-Hant\">'\n",
      "共用時： 4.067728042602539 秒\n",
      "\n",
      "全部結束\n",
      "\n"
     ]
    }
   ],
   "source": [
    "def task(urls):\n",
    "    for url in urls:\n",
    "        response = requests.get(url)\n",
    "        print(url, response.status_code, response.content[:50])\n",
    "\n",
    "startTime = time.time()    \n",
    "task(urls)\n",
    "finishTime = time.time()\n",
    "print('共用時：',finishTime - startTime,'秒\\n')\n",
    "print('全部結束\\n')"
   ]
  },
  {
   "cell_type": "markdown",
   "metadata": {},
   "source": [
    "## 作業目標\n",
    "\n",
    "* 找一個之前實作過的爬蟲改用多線程改寫，比較前後時間的差異。\n",
    "\n",
    "\n",
    "\n"
   ]
  },
  {
   "cell_type": "code",
   "execution_count": null,
   "metadata": {},
   "outputs": [],
   "source": []
  }
 ],
 "metadata": {
  "kernelspec": {
   "display_name": "Python 3",
   "language": "python",
   "name": "python3"
  },
  "language_info": {
   "codemirror_mode": {
    "name": "ipython",
    "version": 3
   },
   "file_extension": ".py",
   "mimetype": "text/x-python",
   "name": "python",
   "nbconvert_exporter": "python",
   "pygments_lexer": "ipython3",
   "version": "3.6.6"
  }
 },
 "nbformat": 4,
 "nbformat_minor": 2
}
