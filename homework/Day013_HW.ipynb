{
 "cells": [
  {
   "cell_type": "markdown",
   "metadata": {},
   "source": [
    "# PTT 網路爬蟲實作練習\n",
    "\n",
    "\n",
    "* 能夠利用 Request + BeatifulSour 撰寫爬蟲，並存放到合適的資料結構\n"
   ]
  },
  {
   "cell_type": "markdown",
   "metadata": {},
   "source": [
    "## 作業目標\n",
    "\n",
    "根據範例 ，完成以下問題：\n",
    "\n",
    "* ① 印出最新文章的「作者」「標題」「時間」\n",
    "* ② 印出第一頁所有文章的「作者」「標題」「時間」\n"
   ]
  },
  {
   "cell_type": "markdown",
   "metadata": {},
   "source": [
    "### ① 印出最新文章的「作者」「標題」「時間」"
   ]
  },
  {
   "cell_type": "code",
   "execution_count": 1,
   "metadata": {},
   "outputs": [],
   "source": [
    "import requests\n",
    "from bs4 import BeautifulSoup"
   ]
  },
  {
   "cell_type": "code",
   "execution_count": 2,
   "metadata": {},
   "outputs": [],
   "source": [
    "url = 'https://www.ptt.cc/bbs/NBA/index.html'\n",
    "res = requests.get(url)\n",
    "soup = BeautifulSoup(res.text, 'html5lib')"
   ]
  },
  {
   "cell_type": "code",
   "execution_count": 7,
   "metadata": {},
   "outputs": [
    {
     "name": "stdout",
     "output_type": "stream",
     "text": [
      "Muma5566 [新聞] Tatum:會努力幫助球隊贏球，自己也想入選 12/11\n",
      "TheBatman [花邊] Nelson談論當年Howard在魔術的\"魔獸人生\" 12/11\n",
      "LinBaoYan [新聞] 卡特第1500場出賽 史上第5人 12/11\n",
      "thnlkj0665 [花邊] 厄文持續缺賽 錯失激勵獎金12.5萬美元 12/11\n",
      "kairiyu [花邊] 當湖人主場播放歌手Lizzo歌曲時，本人在場邊直接表演露臀舞 12/11\n",
      "innocent8675 [花邊]J.J. Culver 砍下100分 12/11\n"
     ]
    }
   ],
   "source": [
    "for div in soup.find('div','r-list-container action-bar-margin bbs-screen').find_all('div','r-ent')[:6]:\n",
    "    author = div.find('div','author').text.replace('\\n','').replace('\\t','')\n",
    "    title = div.find('div','title').text.replace('\\n','').replace('\\t','')\n",
    "    date = div.find('div','date').text.replace('\\n','').replace('\\t','')\n",
    "    print(author, title, date)    "
   ]
  },
  {
   "cell_type": "markdown",
   "metadata": {},
   "source": [
    "### ② 印出第一頁所有文章的「作者」「標題」「時間」"
   ]
  },
  {
   "cell_type": "code",
   "execution_count": 9,
   "metadata": {},
   "outputs": [
    {
     "name": "stdout",
     "output_type": "stream",
     "text": [
      "Muma5566 [新聞] Tatum:會努力幫助球隊贏球，自己也想入選 12/11\n",
      "TheBatman [花邊] Nelson談論當年Howard在魔術的\"魔獸人生\" 12/11\n",
      "LinBaoYan [新聞] 卡特第1500場出賽 史上第5人 12/11\n",
      "thnlkj0665 [花邊] 厄文持續缺賽 錯失激勵獎金12.5萬美元 12/11\n",
      "kairiyu [花邊] 當湖人主場播放歌手Lizzo歌曲時，本人在場邊直接表演露臀舞 12/11\n",
      "innocent8675 [花邊]J.J. Culver 砍下100分 12/11\n",
      "Vedan [公告] 板規v6.6  5/24\n",
      "Vedan [公告] 樂透取消及未來不再開啟樂透  6/24\n",
      "qazwsx879345 [公告] 版主上任相關事項  10/25\n",
      "JerroLi [情報] SEASON Schedule 賽程 December 19–20 11/29\n",
      "dragon803 [公告]是否禁止basketball top 5文章投票開始  12/08\n"
     ]
    }
   ],
   "source": [
    "for div in soup.find('div','r-list-container action-bar-margin bbs-screen').find_all('div','r-ent'):\n",
    "    author = div.find('div','author').text.replace('\\n','').replace('\\t','')\n",
    "    title = div.find('div','title').text.replace('\\n','').replace('\\t','')\n",
    "    date = div.find('div','date').text.replace('\\n','').replace('\\t','')\n",
    "    print(author, title, date) "
   ]
  },
  {
   "cell_type": "markdown",
   "metadata": {},
   "source": [
    "### ③ 試著爬爬看其他版的文章：八卦版"
   ]
  },
  {
   "cell_type": "code",
   "execution_count": 15,
   "metadata": {},
   "outputs": [],
   "source": [
    "url = 'https://www.ptt.cc/bbs/Gossiping/index.html'\n",
    "res = requests.get(url, cookies={'over18': '1'})\n",
    "soup = BeautifulSoup(res.text, 'html5lib')"
   ]
  },
  {
   "cell_type": "code",
   "execution_count": 16,
   "metadata": {},
   "outputs": [
    {
     "name": "stdout",
     "output_type": "stream",
     "text": [
      "CenaC Re: [問卦] 台灣是不是越來越像一個國家了？ 12/11\n",
      "liveforhappy [問卦] 班蛙之前留那種髮型不怕被別隊搞嗎 12/11\n",
      "zero7217 [問卦] 夾到手可以請病假嗎?? 12/11\n",
      "k321045 [新聞] 注射過量嗎啡？住院病患死亡 12/11\n",
      "s2678132 Re: [問卦] 台灣是不是越來越像一個國家了？ 12/11\n",
      "takeshi911 [新聞] 亞太逾4億人營養不良 造成兒童發展遲緩 12/11\n",
      "arsonlolita [公告] 八卦板板規(2019.08.21)  8/21\n",
      "arsonlolita [公告] 宣導禁止回文政問 11/20\n",
      "witty [協尋] 11/20高市大順一路548號順明街行車記錄 11/24\n",
      "Amybook 協尋12/6台中市向上路往精科五路行車記錄器 12/08\n",
      "Bignana [公告] 一劍無悔，十二月置底閒聊文 12/02\n"
     ]
    }
   ],
   "source": [
    "for div in soup.find('div','r-list-container action-bar-margin bbs-screen').find_all('div','r-ent'):\n",
    "    author = div.find('div','author').text.replace('\\n','').replace('\\t','')\n",
    "    title = div.find('div','title').text.replace('\\n','').replace('\\t','')\n",
    "    date = div.find('div','date').text.replace('\\n','').replace('\\t','')\n",
    "    print(author, title, date) "
   ]
  },
  {
   "cell_type": "code",
   "execution_count": null,
   "metadata": {},
   "outputs": [],
   "source": []
  }
 ],
 "metadata": {
  "kernelspec": {
   "display_name": "Python 3",
   "language": "python",
   "name": "python3"
  },
  "language_info": {
   "codemirror_mode": {
    "name": "ipython",
    "version": 3
   },
   "file_extension": ".py",
   "mimetype": "text/x-python",
   "name": "python",
   "nbconvert_exporter": "python",
   "pygments_lexer": "ipython3",
   "version": "3.6.6"
  }
 },
 "nbformat": 4,
 "nbformat_minor": 2
}
