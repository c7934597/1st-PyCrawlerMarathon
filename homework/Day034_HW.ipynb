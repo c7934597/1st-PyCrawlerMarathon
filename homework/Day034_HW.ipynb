{
 "cells": [
  {
   "cell_type": "markdown",
   "metadata": {
    "colab_type": "text",
    "id": "I8CoX4R7VoCd"
   },
   "source": [
    "# 反爬：代理伺服器/IP\n",
    "\n",
    "* 了解「IP 黑/白名單」的反爬蟲機制\n",
    "* 「IP 黑/白名單」反爬蟲的因應策略"
   ]
  },
  {
   "cell_type": "markdown",
   "metadata": {
    "colab_type": "text",
    "id": "n-3DZ_r5VoCe"
   },
   "source": [
    "## 作業目標\n",
    "\n",
    "* 目前程式中的 proxy_ips 是手動輸入的，請根據 https://free-proxy-list.net/ 寫一個可自動化抓取可用 Proxy 的 proxy_ips。\n",
    "\n",
    "\n"
   ]
  },
  {
   "cell_type": "code",
   "execution_count": 1,
   "metadata": {},
   "outputs": [],
   "source": [
    "import requests\n",
    "from bs4 import BeautifulSoup\n",
    "import random"
   ]
  },
  {
   "cell_type": "code",
   "execution_count": 6,
   "metadata": {
    "colab": {},
    "colab_type": "code",
    "id": "iny-9heBVoCf"
   },
   "outputs": [
    {
     "data": {
      "text/plain": [
       "['45.235.86.1:51996',\n",
       " '165.73.233.1:8080',\n",
       " '124.122.52.17:8080',\n",
       " '197.231.198.172:40150',\n",
       " '103.46.233.45:83']"
      ]
     },
     "execution_count": 6,
     "metadata": {},
     "output_type": "execute_result"
    }
   ],
   "source": [
    "proxy_ips = []\n",
    "\n",
    "url = 'https://free-proxy-list.net/'\n",
    "resp = requests.get(url)\n",
    "soup = BeautifulSoup(resp.text,'html.parser')\n",
    "table = soup.find(name='table',attrs={'id':'proxylisttable'})\n",
    "tbody = table.find('tbody')\n",
    "for tr in tbody:\n",
    "    ip = tr.td.string\n",
    "    port = tr.td.next_sibling.string\n",
    "    proxy_ips.append(ip + \":\" + port)\n",
    "proxy_ips[:5]"
   ]
  },
  {
   "cell_type": "code",
   "execution_count": 7,
   "metadata": {
    "colab": {},
    "colab_type": "code",
    "id": "75dIsHjiVoCi"
   },
   "outputs": [
    {
     "name": "stdout",
     "output_type": "stream",
     "text": [
      "Use 182.52.238.118:50390\n",
      "-Fail\n",
      "Use 91.205.51.27:49805\n",
      "-Fail\n",
      "Use 138.97.12.150:37198\n",
      "-Fail\n",
      "Use 103.241.227.110:6666\n",
      "-Fail\n",
      "Use 118.172.201.105:46558\n",
      "-Fail\n",
      "Use 200.105.215.18:33630\n",
      "Your IP address: 200.105.215.18\n",
      "Use 200.223.86.171:44525\n",
      "-Fail\n",
      "Use 45.235.86.1:51996\n",
      "-Fail\n",
      "Use 181.211.38.62:47911\n",
      "-Fail\n",
      "Use 60.246.89.102:53281\n",
      "-Fail\n"
     ]
    }
   ],
   "source": [
    "for i in range(10):\n",
    "    ip = random.choice(proxy_ips)\n",
    "    print('Use', ip)\n",
    "    try:\n",
    "        resp = requests.get('http://ip.filefab.com/index.php',\n",
    "                        proxies={'http': 'http://'+ip, 'https':'https://'+ ip}, timeout=10)\n",
    "        soup = BeautifulSoup(resp.text, 'html5lib')\n",
    "        print(soup.find('h1', id='ipd').text.strip())\n",
    "    except:\n",
    "        print('-Fail')"
   ]
  },
  {
   "cell_type": "code",
   "execution_count": null,
   "metadata": {},
   "outputs": [],
   "source": []
  }
 ],
 "metadata": {
  "colab": {
   "name": "homework.ipynb",
   "provenance": []
  },
  "kernelspec": {
   "display_name": "Python 3",
   "language": "python",
   "name": "python3"
  },
  "language_info": {
   "codemirror_mode": {
    "name": "ipython",
    "version": 3
   },
   "file_extension": ".py",
   "mimetype": "text/x-python",
   "name": "python",
   "nbconvert_exporter": "python",
   "pygments_lexer": "ipython3",
   "version": "3.6.6"
  }
 },
 "nbformat": 4,
 "nbformat_minor": 1
}
